{
 "cells": [
  {
   "cell_type": "markdown",
   "id": "3f65785d",
   "metadata": {},
   "source": [
    "## Mean Absolute Deviation"
   ]
  },
  {
   "cell_type": "code",
   "execution_count": 17,
   "id": "8b06ea0d",
   "metadata": {},
   "outputs": [],
   "source": [
    "data = [153, 147, 151, 156, 153]\n",
    "def mad(data):\n",
    "    n = len(data)\n",
    "    mean = sum(data) / n\n",
    "    deviation_sum = 0\n",
    "    for i in range(n):\n",
    "        deviation_sum += abs(data[i] - mean)\n",
    "    mad = deviation_sum / n\n",
    "    return mad"
   ]
  },
  {
   "cell_type": "code",
   "execution_count": 18,
   "id": "cce5e9f1",
   "metadata": {},
   "outputs": [
    {
     "name": "stdout",
     "output_type": "stream",
     "text": [
      "Mean Absolute Deviation:  2.4\n"
     ]
    }
   ],
   "source": [
    "print(\"Mean Absolute Deviation: \", mad(data))"
   ]
  },
  {
   "cell_type": "markdown",
   "id": "d4757185",
   "metadata": {},
   "source": [
    "## Coeffisien of Varians"
   ]
  },
  {
   "cell_type": "code",
   "execution_count": 37,
   "id": "9b256229",
   "metadata": {},
   "outputs": [],
   "source": [
    "data = [150, 200, 125, 310, 330, 250, 225, 120, 150, 200, 300, 210]\n",
    "def cv(data):\n",
    "    n = len(data)\n",
    "    mean = sum(data) / n\n",
    "    stdev = (sum((x - mean)**2 for x in data) / (n - 1))**0.5\n",
    "    cv = stdev / mean *100\n",
    "    return cv\n",
    "    \n",
    "    "
   ]
  },
  {
   "cell_type": "code",
   "execution_count": 38,
   "id": "35fe411d",
   "metadata": {},
   "outputs": [
    {
     "name": "stdout",
     "output_type": "stream",
     "text": [
      "cv: 33.56\n"
     ]
    }
   ],
   "source": [
    "print(\"cv: {:.2f}\".format(cv(data)))"
   ]
  },
  {
   "cell_type": "markdown",
   "id": "8c5cb8bc",
   "metadata": {},
   "source": [
    "## UJi Tabel Z "
   ]
  },
  {
   "cell_type": "code",
   "execution_count": 49,
   "id": "7c13c2d5",
   "metadata": {},
   "outputs": [],
   "source": [
    "import numpy as np\n",
    "import scipy.stats as st\n",
    "\n",
    "def funct_uji_z_1_mean(mean_sampel, mean_populasi, std_sampel, n, alpha):\n",
    "\n",
    "    ## Menghitung standar deviasi\n",
    "    std = std_sampel/np.sqrt(n)\n",
    "\n",
    "    ## Menghitung uji statistik z\n",
    "    uji_z_1 = (mean_sampel - mean_populasi)/std\n",
    "    print('Hasil Uji Z adalah', uji_z_1) \n",
    "\n",
    "    \n",
    "    Z_tabel_satu_sisi = st.norm.ppf(1 - alpha)\n",
    "\n",
    "    \n",
    "    print('Diperoleh Z tabel satu sisi :', Z_tabel_satu_sisi)\n",
    "\n",
    "    if abs(uji_z_1) > Z_tabel_satu_sisi:\n",
    "        print(\"Sehingga H0 ditolak : rata-rata populasi sekarang > rata- rata populasi sebelumnya\")\n",
    "    else:\n",
    "        print(\"Sehingga H0 gagal ditolak :  rata-rata populasi sekarang < rata- rata populasi sebelumnya\")\n",
    "    \n",
    "    return"
   ]
  },
  {
   "cell_type": "code",
   "execution_count": 50,
   "id": "7b713287",
   "metadata": {},
   "outputs": [
    {
     "name": "stdout",
     "output_type": "stream",
     "text": [
      "Hasil Uji Z adalah 25.29822128134703\n",
      "Diperoleh Z tabel satu sisi : 1.6448536269514722\n",
      "Sehingga H0 ditolak : rata-rata populasi sekarang > rata- rata populasi sebelumnya\n"
     ]
    }
   ],
   "source": [
    "funct_uji_z_1_mean(1.28,1.08,0.05,40,0.05)"
   ]
  }
 ],
 "metadata": {
  "kernelspec": {
   "display_name": "Python 3 (ipykernel)",
   "language": "python",
   "name": "python3"
  },
  "language_info": {
   "codemirror_mode": {
    "name": "ipython",
    "version": 3
   },
   "file_extension": ".py",
   "mimetype": "text/x-python",
   "name": "python",
   "nbconvert_exporter": "python",
   "pygments_lexer": "ipython3",
   "version": "3.9.12"
  }
 },
 "nbformat": 4,
 "nbformat_minor": 5
}
