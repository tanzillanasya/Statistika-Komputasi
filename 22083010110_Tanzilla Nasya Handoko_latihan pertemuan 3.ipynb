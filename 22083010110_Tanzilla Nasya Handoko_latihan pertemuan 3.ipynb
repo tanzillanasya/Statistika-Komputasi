{
 "cells": [
  {
   "cell_type": "markdown",
   "id": "c03e7a50",
   "metadata": {},
   "source": [
    "# UKURAN PEMUSATAN DATA DAN PENYEBARAN "
   ]
  },
  {
   "cell_type": "markdown",
   "id": "811cef36",
   "metadata": {},
   "source": [
    "### rata2 untuk pemusatan data"
   ]
  },
  {
   "cell_type": "code",
   "execution_count": 1,
   "id": "4af864b5",
   "metadata": {},
   "outputs": [
    {
     "name": "stdout",
     "output_type": "stream",
     "text": [
      "rata2nya adalah 166\n"
     ]
    }
   ],
   "source": [
    "import statistics as st\n",
    "tinggi =(156,176,153,180,165)\n",
    "rata2 = st.mean(tinggi)\n",
    "print(\"rata2nya adalah\",rata2)"
   ]
  },
  {
   "cell_type": "code",
   "execution_count": 2,
   "id": "aa78d227",
   "metadata": {},
   "outputs": [
    {
     "name": "stdout",
     "output_type": "stream",
     "text": [
      "rata2 nya adalah 166\n"
     ]
    }
   ],
   "source": [
    "def mean(tinggi):\n",
    "    tinggi =(156,176,153,180,165)\n",
    "    return sum(tinggi)/len (tinggi)\n",
    "print(\"rata2 nya adalah\",rata2)"
   ]
  },
  {
   "cell_type": "markdown",
   "id": "5a81b21f",
   "metadata": {},
   "source": [
    "### RATA2 TERBOBOT"
   ]
  },
  {
   "cell_type": "code",
   "execution_count": 3,
   "id": "67f7cdcb",
   "metadata": {},
   "outputs": [],
   "source": [
    "tinggi = (156,176,153,180,165)\n",
    "bb =(20, 5, 10, 3, 15)\n",
    "total_bb= sum(bb)"
   ]
  },
  {
   "cell_type": "code",
   "execution_count": 4,
   "id": "b5dc6800",
   "metadata": {},
   "outputs": [
    {
     "data": {
      "text/plain": [
       "161.22641509433961"
      ]
     },
     "execution_count": 4,
     "metadata": {},
     "output_type": "execute_result"
    }
   ],
   "source": [
    "def rata2():\n",
    "    nilai_bb =(tinggi[i] * bb[i] for i in range(len(tinggi)))\n",
    "    return sum(nilai_bb)/total_bb\n",
    "rata2()\n"
   ]
  },
  {
   "cell_type": "markdown",
   "id": "2fe3b33e",
   "metadata": {},
   "source": [
    "### MEDIAN"
   ]
  },
  {
   "cell_type": "code",
   "execution_count": 5,
   "id": "8bbb8298",
   "metadata": {},
   "outputs": [
    {
     "data": {
      "text/plain": [
       "[153, 156, 165, 170, 176, 180]"
      ]
     },
     "execution_count": 5,
     "metadata": {},
     "output_type": "execute_result"
    }
   ],
   "source": [
    "tinggi = [156, 176, 153, 180, 165, 170]\n",
    "tinggi.sort()\n",
    "tinggi"
   ]
  },
  {
   "cell_type": "code",
   "execution_count": 6,
   "id": "a96d83ec",
   "metadata": {},
   "outputs": [
    {
     "name": "stdout",
     "output_type": "stream",
     "text": [
      "mediannya adalah 167.5\n"
     ]
    }
   ],
   "source": [
    "def nilai_tengah(tinggi):\n",
    "    tinggi.sort()\n",
    "    n = len(tinggi)\n",
    "    i_tengah = n // 2\n",
    "\n",
    "    if n % 2 == 1:\n",
    "       return tinggi[i_tengah]\n",
    "    else:\n",
    "      return((tinggi[i_tengah-1] + tinggi[i_tengah])/2)\n",
    "\n",
    "print(\"mediannya adalah\", nilai_tengah(tinggi))"
   ]
  },
  {
   "cell_type": "markdown",
   "id": "13395c8a",
   "metadata": {},
   "source": [
    "### MODUS"
   ]
  },
  {
   "cell_type": "code",
   "execution_count": 7,
   "id": "40e6740c",
   "metadata": {},
   "outputs": [
    {
     "name": "stdout",
     "output_type": "stream",
     "text": [
      "Counter({156: 3, 165: 2, 176: 1, 153: 1, 180: 1, 170: 1})\n"
     ]
    }
   ],
   "source": [
    "tinggi = (156, 176, 153, 180, 165, 170, 165, 156, 156)\n",
    "from collections import Counter\n",
    "tinggi_counter = Counter(tinggi)\n",
    "print(tinggi_counter)"
   ]
  },
  {
   "cell_type": "code",
   "execution_count": 8,
   "id": "edd209f5",
   "metadata": {},
   "outputs": [
    {
     "data": {
      "text/plain": [
       "156"
      ]
     },
     "execution_count": 8,
     "metadata": {},
     "output_type": "execute_result"
    }
   ],
   "source": [
    "from collections import Counter\n",
    "tinggi = (156, 176, 153, 180, 165, 170, 165, 156, 156)\n",
    "\n",
    "def modus(i):\n",
    "  count = Counter(i)\n",
    "  return list(count.keys())[0]\n",
    "\n",
    "modus(tinggi)"
   ]
  },
  {
   "cell_type": "markdown",
   "id": "79a0e84d",
   "metadata": {},
   "source": [
    "### RANGE"
   ]
  },
  {
   "cell_type": "code",
   "execution_count": 9,
   "id": "34fcf82d",
   "metadata": {},
   "outputs": [
    {
     "name": "stdout",
     "output_type": "stream",
     "text": [
      "nilai inputan tinggi mahasiswa\n",
      "156 176 153 180 165 170 165 156 156\n",
      "hasil range dari data tinggi adalah 27\n"
     ]
    }
   ],
   "source": [
    "print('nilai inputan tinggi mahasiswa')\n",
    "tinggi = [int(x) for x in input().split()]\n",
    "def nilai_range(tinggi):\n",
    "  return max(tinggi)-min(tinggi)\n",
    "print(\"hasil range dari data tinggi adalah\", nilai_range(tinggi))"
   ]
  },
  {
   "cell_type": "markdown",
   "id": "a9224431",
   "metadata": {},
   "source": [
    "### VARIANCE"
   ]
  },
  {
   "cell_type": "code",
   "execution_count": 10,
   "id": "6736bebe",
   "metadata": {},
   "outputs": [
    {
     "name": "stdout",
     "output_type": "stream",
     "text": [
      "Nilai inputan tinggi mahasiswa\n",
      "156 176 153 180 165 170 165 156 156\n",
      "hasil varians dari data tinggi adalah None\n"
     ]
    }
   ],
   "source": [
    "print('Nilai inputan tinggi mahasiswa')\n",
    "tinggi = [int(x) for x in input().split()]\n",
    "def varians(tinggi):\n",
    "  diff = 0 \n",
    "  rata2 = sum(tinggi)/len(tinggi)\n",
    "print(\"hasil varians dari data tinggi adalah\", varians(tinggi))"
   ]
  },
  {
   "cell_type": "markdown",
   "id": "860d6275",
   "metadata": {},
   "source": [
    "### STANDAR DEVIASI"
   ]
  },
  {
   "cell_type": "code",
   "execution_count": 4,
   "id": "e4271b5c",
   "metadata": {},
   "outputs": [
    {
     "name": "stdout",
     "output_type": "stream",
     "text": [
      "Nilai inputan tinggi mahasiswa\n",
      "156 176 153 180 165 170 165 156 156\n",
      "standar deviasi tinggi keseluruhan adalah 9.688194419555748\n"
     ]
    }
   ],
   "source": [
    "print('Nilai inputan tinggi mahasiswa')\n",
    "tinggi = [int(x) for x in input().split()]\n",
    "def standar_deviasi(tinggi):\n",
    "    rata2 = sum(tinggi)/len(tinggi)\n",
    "    selisih = [x - rata2 for x in tinggi]\n",
    "    kuadrat_selisih = [x**2 for x in selisih]\n",
    "    jumlah_kuadrat_selisih = sum(kuadrat_selisih)\n",
    "    jumlah_semua = len(tinggi) \n",
    "    result = (jumlah_kuadrat_selisih / (jumlah_semua - 1)) ** 0.5\n",
    "    return result\n",
    "print('standar deviasi tinggi keseluruhan adalah', standar_deviasi(tinggi))"
   ]
  }
 ],
 "metadata": {
  "kernelspec": {
   "display_name": "Python 3 (ipykernel)",
   "language": "python",
   "name": "python3"
  },
  "language_info": {
   "codemirror_mode": {
    "name": "ipython",
    "version": 3
   },
   "file_extension": ".py",
   "mimetype": "text/x-python",
   "name": "python",
   "nbconvert_exporter": "python",
   "pygments_lexer": "ipython3",
   "version": "3.9.12"
  }
 },
 "nbformat": 4,
 "nbformat_minor": 5
}
