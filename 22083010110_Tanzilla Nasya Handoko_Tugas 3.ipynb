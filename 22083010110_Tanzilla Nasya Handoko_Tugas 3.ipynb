{
 "cells": [
  {
   "cell_type": "code",
   "execution_count": 48,
   "id": "a2bbd2c2",
   "metadata": {},
   "outputs": [
    {
     "name": "stdout",
     "output_type": "stream",
     "text": [
      "Hasil data nilai mahasiswa yang sudah terurut dari kecil hingga terbesar adalah [55, 65, 70, 70, 72, 75, 75, 75, 78, 80, 80, 80, 86, 90, 92]\n",
      "Hasil mean dari data nilai mahasiswa adalah 76.2\n",
      "Hasil median dari nilai mahasiswa adalah 75\n",
      "Hasil modus dari nilai mahasiswa adalah 75\n",
      "Hasil range dari nilai mahasiswa adalah 37\n",
      "Hasil varians dari nilai mahasiswa adalah 89.74285714285715\n",
      "Hasil standart deviasi dari nilai mahasiswa adalah 9.473270667665796\n"
     ]
    }
   ],
   "source": [
    "def statistika_deskriptif(data):\n",
    "    #mean\n",
    "    mean = sum(data) / len(data)\n",
    "    \n",
    "    #median\n",
    "    data.sort()\n",
    "    if len(data) % 2 == 0:\n",
    "        median = (data[len(data)//2 - 1] + data[len(data)//2]) / 2\n",
    "    else:\n",
    "        median = data[len(data)//2]\n",
    "        \n",
    "    #modus\n",
    "    from collections import Counter\n",
    "    modus = Counter(data).most_common(1)[0][0]\n",
    "    \n",
    "    #range\n",
    "    range_val = max(data) - min(data)\n",
    "    \n",
    "    #varian\n",
    "    varian = sum((x - rata_rata) ** 2 for x in data) / (len(data)-1)\n",
    "    \n",
    "    #standart deviasi\n",
    "    import math\n",
    "    std_deviasi = math.sqrt(varian)\n",
    "    \n",
    "    return (mean, median, modus, range_val, varian, std_deviasi)\n",
    "    \n",
    "data = [75,80,86,72,65,90,55,70,70,80,92,75,75,78,80]\n",
    "mean, median, modus, range_val, varian, std_deviasi = statistika_deskripsi(data)\n",
    "print(\"Hasil data nilai mahasiswa yang sudah terurut dari kecil hingga terbesar adalah\", data)\n",
    "print(\"Hasil mean dari data nilai mahasiswa adalah\", mean)\n",
    "print(\"Hasil median dari nilai mahasiswa adalah\", median)\n",
    "print(\"Hasil modus dari nilai mahasiswa adalah\", modus)\n",
    "print(\"Hasil range dari nilai mahasiswa adalah\", range_val)\n",
    "print(\"Hasil varians dari nilai mahasiswa adalah\", varian)\n",
    "print(\"Hasil standart deviasi dari nilai mahasiswa adalah\", std_deviasi)"
   ]
  }
 ],
 "metadata": {
  "kernelspec": {
   "display_name": "Python 3 (ipykernel)",
   "language": "python",
   "name": "python3"
  },
  "language_info": {
   "codemirror_mode": {
    "name": "ipython",
    "version": 3
   },
   "file_extension": ".py",
   "mimetype": "text/x-python",
   "name": "python",
   "nbconvert_exporter": "python",
   "pygments_lexer": "ipython3",
   "version": "3.9.12"
  }
 },
 "nbformat": 4,
 "nbformat_minor": 5
}
