{
 "cells": [
  {
   "cell_type": "markdown",
   "id": "6481d072",
   "metadata": {},
   "source": [
    "## TANZILLA NASYA HANDOKO (22083010110)"
   ]
  },
  {
   "cell_type": "markdown",
   "id": "faa83792",
   "metadata": {},
   "source": [
    "### FUNGSI PENGUJIAN HIPOTESIS DENGAN PENGUJIAN SATU ARAH"
   ]
  },
  {
   "cell_type": "raw",
   "id": "c4b79d96",
   "metadata": {},
   "source": [
    "Dalam pemeriksaan kandungan gula dalam 2 merk makanan yang berbeda. Pemeriksaan tersebut dilakukan pada 300 sampel merk A yang memiliki kandungan gula sebesar 30gram dengan standar deviasi sebesar 20 dan 400 sampel merk B yang memiliki kandungan gula sebesar 50gram dengan standar deviasi sebesar 20. Hitunglah apakah merk A memiliki kandungan gula lebih tinggi dari merk B dengan taraf nyata sebesar 5%!"
   ]
  },
  {
   "cell_type": "code",
   "execution_count": 13,
   "id": "d06c856a",
   "metadata": {},
   "outputs": [],
   "source": [
    "import numpy as np\n",
    "\n",
    "def uji_mean_2_pop(mean_merkA, mean_merkB, standev_A, standev_B, nA, nB, alpha):\n",
    "    \n",
    "    \n",
    "    #menghitung standev/sqrt(n)\n",
    "    standevA = standev_A/np.sqrt(nA)\n",
    "    standevB = standev_B/np.sqrt(nB)\n",
    "    \n",
    "    #uji statistik z\n",
    "    a_data = np.sqrt((standev_A**2/nA) + (standev_B**2/nB))\n",
    "    uji_z = (mean_merkA - mean_merkB)/a_data\n",
    "    print('hasil uji z adalah', uji_z)\n",
    "    \n",
    "    #Z tabel di python\n",
    "    import scipy.stats as st\n",
    "    \n",
    "    #satu sisi\n",
    "    Z_tabel_satu_sisi = st.norm.ppf(1 - alpha)\n",
    "    print('didapatkan Z tabel satu sisi adalah', Z_tabel_satu_sisi)\n",
    "    \n",
    "    #keputusan\n",
    "    if abs(uji_z) > Z_tabel_satu_sisi:\n",
    "        print('Sehingga H0 ditolak yang artinya rata2 kadar gula merk A lebih rendah dari merk B')\n",
    "        \n",
    "    else:\n",
    "         print('H0 gagal tolak yang artinya rata2 kadar gula merk A tidak lebih rendah dari merk B')\n",
    "    return\n",
    "    "
   ]
  },
  {
   "cell_type": "code",
   "execution_count": 14,
   "id": "79bab802",
   "metadata": {},
   "outputs": [
    {
     "name": "stdout",
     "output_type": "stream",
     "text": [
      "hasil uji z adalah -13.093073414159544\n",
      "didapatkan Z tabel satu sisi adalah 1.6448536269514722\n",
      "Sehingga H0 ditolak yang artinya rata2 kadar gula merk A lebih rendah dari merk B\n"
     ]
    }
   ],
   "source": [
    "uji_mean_2_pop(30, 50, 20, 20, 300, 400, 0.05)"
   ]
  },
  {
   "cell_type": "markdown",
   "id": "d82d5967",
   "metadata": {},
   "source": [
    "## MENGUJI MEAN 2 POPULASI DENGAN SAMPEL < 30"
   ]
  },
  {
   "cell_type": "raw",
   "id": "d4101fb5",
   "metadata": {},
   "source": [
    "Data berikut menampilkan hasil dari penjualan 2 produk berbeda sebuah umkm selama 5 hari\n",
    "produk A = 110, 90, 98, 100, 105(buah)\n",
    "produk B = 86, 98, 89, 100, 95(buah)\n",
    "\n",
    "ujilah hipotesis pada taraf signifikansi 0.05!"
   ]
  },
  {
   "cell_type": "code",
   "execution_count": 17,
   "id": "96c2649b",
   "metadata": {},
   "outputs": [],
   "source": [
    "import numpy as np\n",
    "import scipy.stats as st\n",
    "\n",
    "sampelA = [110, 90, 98, 100, 105]\n",
    "sampelB = [86, 98, 89, 100, 95]\n",
    "\n",
    "def uji_mean_2_pop(sampelA, sampelB, alpha):\n",
    "    #menghitung mean dan standar deviasi\n",
    "    meanA = np.mean(sampelA)\n",
    "    meanB = np.mean(sampelB)\n",
    "    stdA = np.std(sampelA)\n",
    "    stdB = np.std(sampelB)\n",
    "    \n",
    "    #menghitung uji statistik t\n",
    "    data = np.sqrt((stdA**2/len(sampelA)) + (stdB**2/len(sampelB)))\n",
    "    uji_t = (meanA - meanB)/data\n",
    "    print('hasil uji t adalah', data)\n",
    "    \n",
    "    #menghitung titik kritis\n",
    "    nilai_q = 1 - alpha\n",
    "    t_kritis = st.t.ppf(q = nilai_q, df = len(sampelA) + len(sampelB) - 2)\n",
    "    print('titik kritis pada alpha adalah', t_kritis)\n",
    "    \n",
    "    #keputusan\n",
    "    if abs(uji_t) > t_kritis:\n",
    "        print('sehingga H0 ditolak')\n",
    "    else:\n",
    "        print('sehingga H0 gagal tolak')\n",
    "    return\n",
    "    "
   ]
  },
  {
   "cell_type": "code",
   "execution_count": 18,
   "id": "d3306da6",
   "metadata": {},
   "outputs": [
    {
     "name": "stdout",
     "output_type": "stream",
     "text": [
      "hasil uji t adalah 3.8387497964832242\n",
      "titik kritis pada alpha adalah 1.8595480375228424\n",
      "sehingga H0 gagal tolak\n"
     ]
    }
   ],
   "source": [
    "uji_mean_2_pop(sampelA, sampelB, 0.05)"
   ]
  },
  {
   "cell_type": "markdown",
   "id": "533bfc10",
   "metadata": {},
   "source": [
    "## MENGUJI VARIAN LEBIH DARI 2 POPULASI"
   ]
  },
  {
   "cell_type": "raw",
   "id": "76add070",
   "metadata": {},
   "source": [
    "sebuah home industri  memiliki 3 cabang dan ingin memastikan apakah variansi ketiga cabang sama atau tidak. untuk itu, ia mengambil sampel dari masing2 cabang dan mengukur produksi dalam satuan yang sama. Data produksi yang dikumpulkan adalah:\n",
    "cabang1: 79, 30, 87, 98, 100\n",
    "cabang2: 56, 93, 110, 54, 67\n",
    "cabang3: 90, 98, 76, 65, 46\n",
    "\n",
    "ujilah apakah variansi produksi di ketiga cabang sama atau tidak dengan tingkat signifikansi 0.05!"
   ]
  },
  {
   "cell_type": "code",
   "execution_count": 6,
   "id": "cecde09a",
   "metadata": {},
   "outputs": [],
   "source": [
    "import numpy as np\n",
    "from scipy.stats import f\n",
    "\n",
    "\n",
    "#data produksi dari 3 cabang\n",
    "cabang1 = ([79, 30, 87, 98, 100])\n",
    "cabang2 = ([56, 93, 110, 54, 67])\n",
    "cabang3 = ([90, 98, 76, 65, 46])\n",
    "\n",
    "def uji_varian_lebih_2_pop(cabang1, cabang2, cabang3, alpha):\n",
    "    \n",
    "    #mean dan variansi masing2 cabang\n",
    "    mean1, var1 = np.mean(cabang1), np.var(cabang1)\n",
    "    mean2, var2 = np.mean(cabang2), np.var(cabang2)\n",
    "    mean3, var3 = np.mean(cabang3), np.var(cabang3)\n",
    "\n",
    "    #F statistik\n",
    "    n = len(cabang1) + len(cabang2) + len(cabang3)\n",
    "    df1 = 2\n",
    "    df2 = n-3\n",
    "\n",
    "    ms_a = (var1 + var2 + var3)/df1\n",
    "    ms_b = ((len(cabang1) - 1) * var1 + (len(cabang2) - 1) * var2 + (len(cabang3) - 1) * var3) / df2\n",
    "\n",
    "    f_stat = ms_a/ms_b\n",
    "    print('hasil hitung f adalah', f_stat)\n",
    "\n",
    "# Menghitung p-value\n",
    "    p_value = 1 - f.cdf(f_stat, df1, df2)\n",
    "    print(\"p-value adalah\", p_value)\n",
    "    \n",
    "    f_krit = f.ppf(1 - alpha, df1, df2)\n",
    "    print(\"Nilai f kritis adalah\", f_krit)\n",
    "    \n",
    "    #kesimpulan\n",
    "    if f_stat > f_krit:\n",
    "        print(\"H0 ditolak, varians produksi di ketiga pabrik tidak sama\")\n",
    "    else:\n",
    "        print(\"H0 gagal ditolak, varians produksi di ketiga pabrik sama\")\n",
    "    return"
   ]
  },
  {
   "cell_type": "code",
   "execution_count": 7,
   "id": "f64a8e6c",
   "metadata": {},
   "outputs": [
    {
     "name": "stdout",
     "output_type": "stream",
     "text": [
      "hasil hitung f adalah 1.5\n",
      "p-value adalah 0.26214400000000015\n",
      "Nilai f kritis adalah 3.8852938346523933\n",
      "H0 gagal ditolak, varians produksi di ketiga pabrik sama\n"
     ]
    }
   ],
   "source": [
    "uji_varian_lebih_2_pop(cabang1, cabang2, cabang3, 0.05)"
   ]
  },
  {
   "cell_type": "code",
   "execution_count": null,
   "id": "3f345f91",
   "metadata": {},
   "outputs": [],
   "source": []
  }
 ],
 "metadata": {
  "kernelspec": {
   "display_name": "Python 3 (ipykernel)",
   "language": "python",
   "name": "python3"
  },
  "language_info": {
   "codemirror_mode": {
    "name": "ipython",
    "version": 3
   },
   "file_extension": ".py",
   "mimetype": "text/x-python",
   "name": "python",
   "nbconvert_exporter": "python",
   "pygments_lexer": "ipython3",
   "version": "3.9.12"
  }
 },
 "nbformat": 4,
 "nbformat_minor": 5
}
