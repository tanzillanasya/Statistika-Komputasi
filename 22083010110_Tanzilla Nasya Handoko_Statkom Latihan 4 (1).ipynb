{
 "cells": [
  {
   "cell_type": "markdown",
   "id": "06b561aa-1f19-4234-b762-8e5bde57b211",
   "metadata": {},
   "source": [
    "## UJI HIPOTESIS"
   ]
  },
  {
   "cell_type": "markdown",
   "id": "e0468292-6eb2-488e-a326-c5b689a1e838",
   "metadata": {},
   "source": [
    "### Pengujian Mean 1 Populasi - (Sampel > 30)"
   ]
  },
  {
   "cell_type": "code",
   "execution_count": 23,
   "id": "3fc635d8-2cb7-429d-9008-dca7f3b274aa",
   "metadata": {},
   "outputs": [
    {
     "name": "stdout",
     "output_type": "stream",
     "text": [
      "Hasil Uji Z adalah 4.0\n"
     ]
    }
   ],
   "source": [
    "import numpy as np\n",
    "\n",
    "\n",
    "mean_sampel = 1600\n",
    "mean_populasi = 1570\n",
    "std_sampel = 150\n",
    "n = 400\n",
    "\n",
    "# langkah2 nya adlh\n",
    "#menghitung std/sqrt(n)\n",
    "std = std_sampel/np.sqrt(n)\n",
    "\n",
    "\n",
    "# Menghitung uji statistik z\n",
    "uji_z_1=(mean_sampel - mean_populasi)/std\n",
    "print('Hasil Uji Z adalah', uji_z_1)"
   ]
  },
  {
   "cell_type": "code",
   "execution_count": 27,
   "id": "cb5f0d48-4026-4789-b645-07d69d8df148",
   "metadata": {},
   "outputs": [
    {
     "name": "stdout",
     "output_type": "stream",
     "text": [
      "hasil z tabel dua sisi: 1.959963984540054\n",
      "hasil z tabel satu sisi: 1.6448536269514722\n"
     ]
    }
   ],
   "source": [
    "#Ztable in python \n",
    "import scipy.stats as st\n",
    "\n",
    "#jika dua sisi sisi\n",
    "z_tabel_dua_sisi = st.norm.ppf(1-0.025)\n",
    "\n",
    "#jika satu sisi\n",
    "z_tabel_satu_sisi = st.norm.ppf(1-0.05)\n",
    "\n",
    "#menampilkan hasil\n",
    "print(\"hasil z tabel dua sisi:\",z_tabel_dua_sisi)\n",
    "print(\"hasil z tabel satu sisi:\",z_tabel_satu_sisi)"
   ]
  },
  {
   "cell_type": "code",
   "execution_count": 28,
   "id": "c3abde3b-25f7-4088-843c-64bd71652499",
   "metadata": {},
   "outputs": [
    {
     "name": "stdout",
     "output_type": "stream",
     "text": [
      "hasil z tabel dua sisi: 2.5758293035489004\n",
      "hasil z tabel satu sisi: 2.3263478740408408\n"
     ]
    }
   ],
   "source": [
    "#pencarian z tabel di python\n",
    "import scipy.stats as st\n",
    "alpha = 0.01\n",
    "\n",
    "#jika dua sisi\n",
    "z_tabel_dua_sisi = st.norm.ppf(1-(alpha/2))\n",
    "\n",
    "#jika dua sisi\n",
    "z_tabel_satu_sisi = st.norm.ppf(1 - alpha)\n",
    "\n",
    "#tampilkan hasil\n",
    "print(\"hasil z tabel dua sisi:\",z_tabel_dua_sisi)\n",
    "print(\"hasil z tabel satu sisi:\",z_tabel_satu_sisi)"
   ]
  },
  {
   "cell_type": "markdown",
   "id": "3593b20a-778e-4995-abac-f11ca783e8ce",
   "metadata": {},
   "source": [
    "## Uji Hipotesis\n",
    "\n",
    "1. Uji Dua Arah\n",
    "    H0 : µ = µ0 or µ - µ0 = 0 \n",
    "    H1 : µ ≠ µ0\n",
    "2. Uji Satu Arah - Ekor Kiri\n",
    "    H0 : µ ≥ µ0 and H1 : µ < µ"
   ]
  },
  {
   "cell_type": "code",
   "execution_count": 29,
   "id": "a0cc6302-1ac1-4e27-8ccb-75d66d2f243c",
   "metadata": {},
   "outputs": [
    {
     "name": "stdout",
     "output_type": "stream",
     "text": [
      "Sehingga H0 ditolak yang artinya rata-rata populasi sekarang < rata-rata populasi sebelumnya\n"
     ]
    }
   ],
   "source": [
    "#keputusan\n",
    "if abs(uji_z_1) > z_tabel_satu_sisi:\n",
    "    print(\"Sehingga H0 ditolak yang artinya rata-rata populasi sekarang < rata-rata populasi sebelumnya\")\n",
    "else:\n",
    "    print(\"Sehingga H0 gagal ditolak yang artinya rata-rata populasi sekarang > rata-rata\")"
   ]
  },
  {
   "cell_type": "markdown",
   "id": "4cfab0ac-eb1b-4b31-9bee-a4b0fe94fbc2",
   "metadata": {},
   "source": [
    "### kode script pengujian mean 1 populasi sampel > 30 dalam satu function"
   ]
  },
  {
   "cell_type": "code",
   "execution_count": 31,
   "id": "cdc9f7ef-5469-4459-a7d9-bb2c5c6ea586",
   "metadata": {},
   "outputs": [],
   "source": [
    "import scipy.stats as st\n",
    "def func_uji_z_1_mean(mean_sampel, mean_populasi, std_sampel, n, alpha):\n",
    "    \n",
    "    # 1. menghitung std/sqrt(n)\n",
    "    std = std_sampel/np.sqrt(n)\n",
    "    \n",
    "    # 2. menghitung uji statistik z\n",
    "    uji_z_1 = (mean_sampel-mean_populasi)/std\n",
    "    print(\"hasil uji Z\", uji_z_1)\n",
    "    \n",
    "    #z tabel di python\n",
    "    import scipy.stats as st\n",
    "    \n",
    "    #jika dua sisi\n",
    "    z_tabel_dua_sisi = st.norm.ppf(1-(alpha/2))\n",
    "    print(z_tabel_dua_sisi)\n",
    "    \n",
    "    #keputusan\n",
    "    if abs(uji_z_1) > z_tabel_satu_sisi:\n",
    "        print(\"Sehingga H0 ditolak yang artinya rata-rata sampel dengan populasi tidak sama\")\n",
    "    else:\n",
    "        print(\"Sehingga H0 gagal ditolak artinya rata-rata sampel sama dengan rata_rata populasi\")"
   ]
  },
  {
   "cell_type": "code",
   "execution_count": 32,
   "id": "d712c863-08b7-44f1-b5f8-4979319885d3",
   "metadata": {},
   "outputs": [
    {
     "name": "stdout",
     "output_type": "stream",
     "text": [
      "hasil uji Z 4.0\n",
      "1.959963984540054\n",
      "Sehingga H0 ditolak yang artinya rata-rata sampel dengan populasi tidak sama\n"
     ]
    }
   ],
   "source": [
    "func_uji_z_1_mean(1600,1570,150,400,0.05)"
   ]
  },
  {
   "cell_type": "markdown",
   "id": "2410ef73-0eca-44c7-b8ff-77f87df041ec",
   "metadata": {},
   "source": [
    "#### Pengujian mean 1 populasi - sampel < 30"
   ]
  },
  {
   "cell_type": "code",
   "execution_count": 33,
   "id": "c6fcb7c4-dc6d-4ea3-9980-6f9c06d7efbf",
   "metadata": {},
   "outputs": [],
   "source": [
    "def uji_hipotesis(sampel, populasi, sd, n, alpha):\n",
    "    uji_z = (sampel - populasi)/(sd/(n)**.5)\n",
    "    z_1_sisi = st.norm.ppf(1-alpha)\n",
    "    if abs(uji_z) > z_1_sisi:\n",
    "        return(\"H0 ditolak rata2 populasi sekrang > rata2 populasi sebelumnya\")\n",
    "    else:\n",
    "        return(\"H0 gagal tolak rata2 populasi sekarang < rata2 populasi sebelumnya\")"
   ]
  },
  {
   "cell_type": "code",
   "execution_count": 34,
   "id": "6f2c9420-9149-49fa-93c0-d99c6b0e1bf4",
   "metadata": {},
   "outputs": [
    {
     "name": "stdout",
     "output_type": "stream",
     "text": [
      "Uji statistik Z:  -2.5\n",
      "Nilai kritis:  -1.6448536269514729\n",
      "Keputusan: Tolak H0\n"
     ]
    }
   ],
   "source": [
    "mean_sampel = 80\n",
    "mean_populasi = 85\n",
    "std_sampel = 10\n",
    "n = 25\n",
    "alpha = 0.05\n",
    "\n",
    "import math\n",
    "from scipy.stats import norm\n",
    "\n",
    "def uji_z_1_mean(mean_sampel, mean_populasi, std_sampel, n, alpha):\n",
    "    z = (mean_sampel - mean_populasi) / (std_sampel / math.sqrt(n))\n",
    "    z_kritis = norm.ppf(alpha)\n",
    "    tolak_H0 = z < z_kritis\n",
    "    \n",
    "    return z, z_kritis, tolak_H0\n",
    "\n",
    "z, z_kritis, tolak_H0 = uji_z_1_mean(mean_sampel, mean_populasi, std_sampel, n, alpha)\n",
    "\n",
    "print(\"Uji statistik Z: \", z)\n",
    "print(\"Nilai kritis: \", z_kritis)\n",
    "\n",
    "if tolak_H0:\n",
    "    print(\"Keputusan: Tolak H0\")\n",
    "else:\n",
    "    print(\"Keputusan: Gagal tolak H0\")"
   ]
  },
  {
   "cell_type": "code",
   "execution_count": 35,
   "id": "9a789bd6-c611-4c1f-b97e-a4e998af0c20",
   "metadata": {},
   "outputs": [
    {
     "name": "stdout",
     "output_type": "stream",
     "text": [
      "Hasil Uji t adalah -1.0651837251935858\n"
     ]
    }
   ],
   "source": [
    "# Menentukan Uji Statistik\n",
    "sampel = [183, 152, 178, 157, 194, 163, 164, 114, 178, 152, 118, 158, 172, 138]\n",
    "\n",
    "# Menentukan mean dari data\n",
    "mean_data=np.mean(sampel) \n",
    "# Mendefinisikan populasi mean\n",
    "pop_mean = 165\n",
    "# Menghitung standar error dari data\n",
    "n = len(sampel)\n",
    "se_data = np.std(sampel)/np.sqrt(n)\n",
    "# Menghitung uji statistik t\n",
    "uji_t_1_mean=(mean_data-pop_mean)/se_data\n",
    "print('Hasil Uji t adalah', uji_t_1_mean)"
   ]
  },
  {
   "cell_type": "code",
   "execution_count": 36,
   "id": "e36f359d-ce5f-42b8-83a7-4e9940edd884",
   "metadata": {},
   "outputs": [
    {
     "name": "stdout",
     "output_type": "stream",
     "text": [
      "Titik kritis dua arah pada alpha adalah 2.1603686564610127\n",
      "H0 gagal ditolak, rata-rata sampel = rata-rata puopulasi\n"
     ]
    }
   ],
   "source": [
    "from scipy import stats\n",
    "# Titik kritis dua arah pada alpha=0.05\n",
    "alpha = 0.05\n",
    "nilai_q=1-(alpha/2)\n",
    "t_crit = stats.t.ppf(q=nilai_q, df=n-1)\n",
    "print(\"Titik kritis dua arah pada alpha adalah\", t_crit)\n",
    "if abs(uji_t_1_mean) > t_crit:\n",
    "    print(\"H0 ditolak yang artinya rata-rata sampel ≠ populasi\")\n",
    "else:\n",
    "    print(\"H0 gagal ditolak, rata-rata sampel = rata-rata puopulasi\")"
   ]
  },
  {
   "cell_type": "code",
   "execution_count": 37,
   "id": "36d38541-b837-4324-b97d-d2cbf9f8177f",
   "metadata": {},
   "outputs": [
    {
     "name": "stdout",
     "output_type": "stream",
     "text": [
      "Gagal tolak H0, tinggi rata-rata penduduk = 165\n"
     ]
    }
   ],
   "source": [
    "import numpy as np\n",
    "from scipy.stats import t\n",
    "\n",
    "\n",
    "sampel = [183, 152, 178, 157, 194, 163, 164, 114, 178, 152, 118, 158, 172, 138]\n",
    "\n",
    "# Hipotesis\n",
    "pop_mean = 165\n",
    "alpha = 0.05\n",
    "n = len(sampel)\n",
    "mean_sampel = np.mean(sampel)\n",
    "std_sampel = np.std(sampel, ddof=1)  # ddof=1 untuk mengestimasi variansi dari sampel\n",
    "\n",
    "# Uji statistik t\n",
    "se_sampel = std_sampel / np.sqrt(n)\n",
    "uji_t_1_mean = (mean_sampel - pop_mean) / se_sampel\n",
    "\n",
    "# Hitung nilai kritis t\n",
    "df = n - 1\n",
    "t_kritis = abs(t.ppf(alpha/2, df))\n",
    "\n",
    "# Uji hipotesis\n",
    "if abs(uji_t_1_mean) > t_kritis:\n",
    "    print(\"Tolak H0, tinggi rata-rata penduduk ≠ 165\")\n",
    "else:\n",
    "    print(\"Gagal tolak H0, tinggi rata-rata penduduk = 165\")"
   ]
  },
  {
   "cell_type": "markdown",
   "id": "dd735e22-ed95-4db7-91e2-738704ce0ec0",
   "metadata": {},
   "source": [
    "#### Pengujian Varians 2 Populasi"
   ]
  },
  {
   "cell_type": "code",
   "execution_count": 38,
   "id": "bfc0b15a-4da1-4754-bd96-80dcdf23a67e",
   "metadata": {},
   "outputs": [
    {
     "name": "stdout",
     "output_type": "stream",
     "text": [
      "Varians Data a adalah 10.0\n",
      "Varians Data b adalah 38.0\n",
      "Hasil F hitung adalah 3.8\n",
      "Hasil dari F tabel adalah 3.3471631202339784\n",
      "Varian dari dua populasi berbeda, H0 ditolak.\n"
     ]
    },
    {
     "data": {
      "text/plain": [
       "(10.0, 38.0, 3.8, 3.3471631202339784)"
      ]
     },
     "execution_count": 38,
     "metadata": {},
     "output_type": "execute_result"
    }
   ],
   "source": [
    "import numpy as np\n",
    "import scipy.stats\n",
    "\n",
    "data_a = [19,22,24,27,24,18,20,19,25]\n",
    "data_b = [26,37,40,35,30,30,40,26,30,35,45]\n",
    "\n",
    "def uji_2populasi(data_a, data_b, alpha=0.05):\n",
    "\n",
    "    mean_data1 = np.mean(data_a)\n",
    "    mean_data2 = np.mean(data_b)\n",
    "\n",
    "    n1 = len(data_a)\n",
    "    n2 = len(data_b)\n",
    "    var1 = np.var(data_a, ddof=1)  \n",
    "    var2 = np.var(data_b, ddof=1)\n",
    "\n",
    "    print('Varians Data a adalah', var1)\n",
    "    print('Varians Data b adalah', var2)\n",
    "\n",
    "    if var2 > var1:\n",
    "        F_hit = var2 / var1\n",
    "        print('Hasil F hitung adalah', F_hit)\n",
    "    else:\n",
    "        F_hit = var1 / var2\n",
    "        print('Hasil F hitung adalah', F_hit)\n",
    "\n",
    "    df1 = n1 - 1\n",
    "    df2 = n2 - 1\n",
    "    if df1 > df2:\n",
    "        F_tabel = scipy.stats.f.ppf(q=1-alpha, dfn=df1, dfd=df2)\n",
    "        print('Hasil dari F tabel adalah', F_tabel)\n",
    "    else:\n",
    "        F_tabel = scipy.stats.f.ppf(q=1-alpha, dfn=df2, dfd=df1)\n",
    "        print('Hasil dari F tabel adalah', F_tabel)\n",
    "\n",
    "    if F_hit > F_tabel:\n",
    "        print('Varian dari dua populasi berbeda, H0 ditolak.')\n",
    "    else:\n",
    "        print('Tidak cukup bukti, H0 gagal tolak.')\n",
    "\n",
    "    return var1, var2, F_hit, F_tabel\n",
    "\n",
    "uji_2populasi(data_a, data_b)"
   ]
  }
 ],
 "metadata": {
  "kernelspec": {
   "display_name": "Python 3 (ipykernel)",
   "language": "python",
   "name": "python3"
  },
  "language_info": {
   "codemirror_mode": {
    "name": "ipython",
    "version": 3
   },
   "file_extension": ".py",
   "mimetype": "text/x-python",
   "name": "python",
   "nbconvert_exporter": "python",
   "pygments_lexer": "ipython3",
   "version": "3.9.12"
  }
 },
 "nbformat": 4,
 "nbformat_minor": 5
}
