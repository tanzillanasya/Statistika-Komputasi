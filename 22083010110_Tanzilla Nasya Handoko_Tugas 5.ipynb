{
 "cells": [
  {
   "cell_type": "raw",
   "id": "3585a7fe",
   "metadata": {},
   "source": [
    "Buatlah fungsi koefisien Korelasi hingga mendapatkan\n",
    "kesimpulannya ? (Tampilkan nilai mean x dan y, nilai kovarian, \n",
    "nilai standar deviasi x dan y, nilai koefisien korelsi, serta\n",
    "kesimpulannya )\n"
   ]
  },
  {
   "cell_type": "raw",
   "id": "79878c94",
   "metadata": {},
   "source": [
    "Anda memiliki data tentang jumlah jam belajar dan nilai ujian dari 8 siswa sebagai berikut:\n",
    "Siswa 1: Jumlah jam belajar 3, nilai ujian 75\n",
    "Siswa 2: Jumlah jam belajar 4, nilai ujian 80\n",
    "Siswa 3: Jumlah jam belajar 5, nilai ujian 85\n",
    "Siswa 4: Jumlah jam belajar 2, nilai ujian 70\n",
    "Siswa 5: Jumlah jam belajar 6, nilai ujian 90\n",
    "Siswa 6: Jumlah jam belajar 4, nilai ujian 80\n",
    "Siswa 7: Jumlah jam belajar 7, nilai ujian 95\n",
    "Siswa 8: Jumlah jam belajar 5, nilai ujian 85\n",
    "Hitunglah korelasi antara jumlah jam belajar dan nilai ujian dari data di atas."
   ]
  },
  {
   "cell_type": "code",
   "execution_count": 13,
   "id": "96df865f",
   "metadata": {},
   "outputs": [
    {
     "name": "stdout",
     "output_type": "stream",
     "text": [
      "korelasi person adalah 1.000\n",
      "hasil rata2 x adalah 4.5\n",
      "hasil rata2 y adalah 82.5\n",
      "hasil kovarian adalah 11.25\n",
      "hasil dari kolerasi pearson adalah 1.0\n",
      "kesimpulannya adalah Strong Positive Corelation\n"
     ]
    }
   ],
   "source": [
    "jam_belajar = [3, 4, 5, 2, 6, 4, 7, 5]\n",
    "nilai = [75,80,85,70,90,80,95,85]\n",
    "from scipy.stats import pearsonr\n",
    "import numpy as np\n",
    "\n",
    "def korelasi(jam_belajar, nilai):\n",
    "    \n",
    "    corr,_ = pearsonr(jam_belajar, nilai)\n",
    "    print('korelasi person adalah %.3f' % corr)\n",
    "\n",
    "    #secara manual\n",
    "    mean_x = np.mean(jam_belajar)\n",
    "    mean_y = np.mean(nilai)\n",
    "    print('hasil rata2 x adalah', mean_x)\n",
    "    print('hasil rata2 y adalah', mean_y)\n",
    "\n",
    "    #menghitung kovarian\n",
    "\n",
    "    covar=0\n",
    "    for i in range(len(jam_belajar)):\n",
    "        covar+=((jam_belajar[i]- mean_x)*(nilai[i] - mean_y))\n",
    "    kovarian = covar/len(jam_belajar)\n",
    "    print('hasil kovarian adalah', kovarian)\n",
    "\n",
    "    std_x =  np.std(jam_belajar)\n",
    "    std_y =  np.std(nilai)\n",
    "    r = kovarian/(std_x*std_y)\n",
    "    print('hasil dari kolerasi pearson adalah', r)\n",
    "    \n",
    "    #membuat keputusan interpretasi\n",
    "    \n",
    "\n",
    "    if r > 0.5 and r <= 1:\n",
    "        print('kesimpulannya adalah Strong Positive Corelation')\n",
    "    elif r == 0.5 :\n",
    "        print('kesimpulannya adalah Moderate Positive Correlation')\n",
    "    elif r >=0 and r < 0.5:\n",
    "        print('kesimpulan adalah Weak Positive Correlation')\n",
    "    elif r < 0 and r > 0.5:\n",
    "        print('kesimpulan adalah Weak Negative Correlation')\n",
    "    elif r == -0.5:\n",
    "        print('kesimpulan adalah Moderator Negative Correlation')\n",
    "    else:\n",
    "        print('kesimpulannya adalah Strong Negative Corelation')\n",
    "    \n",
    "korelasi(jam_belajar, nilai)"
   ]
  },
  {
   "cell_type": "markdown",
   "id": "c0b391e2",
   "metadata": {},
   "source": [
    "## regresi linear"
   ]
  },
  {
   "cell_type": "code",
   "execution_count": 19,
   "id": "a7d18179",
   "metadata": {},
   "outputs": [
    {
     "name": "stdout",
     "output_type": "stream",
     "text": [
      "18.25\n",
      "168.75\n",
      "-227.5\n",
      "215.5\n",
      "-1.0556844547563806\n",
      "188.01624129930394\n",
      "183.79350348027842\n"
     ]
    }
   ],
   "source": [
    "umur = [13, 24, 15, 12, 26, 24, 17, 15]\n",
    "tinggi = [175,180,185,170,150,160,155,175]\n",
    "import numpy as np\n",
    "\n",
    "def regresi(umur, tinggi):\n",
    "    mean_umur = np.mean(umur)\n",
    "    mean_tinggi = np.mean(tinggi)\n",
    "    print(mean_umur)\n",
    "    print(mean_tinggi)\n",
    "    \n",
    "    #menghitung S umur dan tinggi\n",
    "    \n",
    "    n = len(umur)\n",
    "    covar_umurtinggi=0\n",
    "    for i in range(n):\n",
    "        covar_umurtinggi+=((umur[i]-mean_umur)*(tinggi[i]-mean_tinggi))\n",
    "    S_umurtinggi=covar_umurtinggi\n",
    "    print(S_umurtinggi)\n",
    "    \n",
    "    #menghitung Sx\n",
    "    var_x=0\n",
    "    for i in range(n):\n",
    "        var_x+=((umur[i]-mean_umur)**2)\n",
    "    S_x=var_x\n",
    "    print(S_x)\n",
    "    \n",
    "    #menghitung b\n",
    "    b = S_umurtinggi/S_x\n",
    "    print(b)\n",
    "    \n",
    "    #menghitung a\n",
    "    a = mean_tinggi - (b*mean_umur)\n",
    "    print(a)\n",
    "    \n",
    "    #menghitung prediksi\n",
    "    y = a +(b*4)\n",
    "    print(y)\n",
    "    \n",
    "regresi(umur, tinggi)"
   ]
  },
  {
   "cell_type": "code",
   "execution_count": null,
   "id": "8b858324",
   "metadata": {},
   "outputs": [],
   "source": []
  }
 ],
 "metadata": {
  "kernelspec": {
   "display_name": "Python 3 (ipykernel)",
   "language": "python",
   "name": "python3"
  },
  "language_info": {
   "codemirror_mode": {
    "name": "ipython",
    "version": 3
   },
   "file_extension": ".py",
   "mimetype": "text/x-python",
   "name": "python",
   "nbconvert_exporter": "python",
   "pygments_lexer": "ipython3",
   "version": "3.9.12"
  }
 },
 "nbformat": 4,
 "nbformat_minor": 5
}
