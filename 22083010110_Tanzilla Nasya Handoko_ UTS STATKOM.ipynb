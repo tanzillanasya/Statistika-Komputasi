{
 "cells": [
  {
   "cell_type": "markdown",
   "id": "d96bd15f-8fdc-4fb5-a6bc-3ebe73ef1961",
   "metadata": {},
   "source": [
    "## nomer 1"
   ]
  },
  {
   "cell_type": "code",
   "execution_count": 30,
   "id": "d429d4ce-2ea3-4d4d-a0b1-847188ff1bd7",
   "metadata": {},
   "outputs": [
    {
     "name": "stdout",
     "output_type": "stream",
     "text": [
      "Rata2 step_deviation: 175.77586206896552\n"
     ]
    }
   ],
   "source": [
    "def mean_stepdev(mi,frekuensi,A):\n",
    "  n = len (mi)\n",
    "  total_frekuensi = sum (frekuensi)\n",
    "  total_step_deviation = 0\n",
    "  for i in range(n):\n",
    "    step_deviation = abs(mi[i]-A)\n",
    "    total_step_deviation += frekuensi[i]*step_deviation\n",
    "  mean_step_deviation = total_step_deviation / total_frekuensi\n",
    "  return mean_step_deviation\n",
    "mi = [22.5, 27.5, 32.5, 37.5, 42.5]\n",
    "frekuensi = [30, 160, 210, 180, 145]\n",
    "A = 210\n",
    "hasil = mean_stepdev (mi,frekuensi,A)\n",
    "print(\"Rata2 step_deviation:\",hasil)\n"
   ]
  },
  {
   "cell_type": "markdown",
   "id": "4b444e40-ec41-4020-8a77-cbc8ac97644c",
   "metadata": {},
   "source": [
    "## nomer 2"
   ]
  },
  {
   "cell_type": "code",
   "execution_count": 32,
   "id": "89f5f7f6-ffd9-4653-a912-5e9181f0be6b",
   "metadata": {},
   "outputs": [
    {
     "name": "stdout",
     "output_type": "stream",
     "text": [
      "Rata2 harmonik saham selama 3 bulan: 155.07692307692307\n"
     ]
    }
   ],
   "source": [
    "def rata_rata_harmonik(data):\n",
    "    n = len(data)\n",
    "    return n / sum(1/x for x in data)\n",
    "\n",
    "price_saham = [120, 160, 210]\n",
    "harmonic_mean_3bulan = rata_rata_harmonik(price_saham)\n",
    "print(\"Rata2 harmonik saham selama 3 bulan:\", harmonic_mean_3bulan)\n"
   ]
  },
  {
   "cell_type": "markdown",
   "id": "dfc1591e-6909-4d30-8f73-2cf747274759",
   "metadata": {},
   "source": [
    "## nomer 3"
   ]
  },
  {
   "cell_type": "code",
   "execution_count": 36,
   "id": "fa70f4f8-bde1-41c9-8521-7068c406a3a8",
   "metadata": {},
   "outputs": [
    {
     "name": "stdout",
     "output_type": "stream",
     "text": [
      "standart error: 0.4604345773288535\n",
      "Hasil uji t:\n",
      "t-value:  -1.520302849670749\n",
      "p-value:  0.9341725933429716\n",
      "titik kritis: 1.6605512170440568\n"
     ]
    },
    {
     "data": {
      "text/plain": [
       "'Tolak H0, berat rata2 siswa laki2 yang ikut dalam atletik sekolah lebih sehat dari siswa lain.'"
      ]
     },
     "execution_count": 36,
     "metadata": {},
     "output_type": "execute_result"
    }
   ],
   "source": [
    "import scipy.stats as st\n",
    "import numpy as np\n",
    "\n",
    "n1 = 50\n",
    "n2 = 50\n",
    "mean_n1 = 68.2\n",
    "mean_n2 = 67.5\n",
    "std_n1 = 2.5\n",
    "std_n2 = 2.8\n",
    "a = 0.05\n",
    "\n",
    "def uji_t(mean_n1, mean_n2, std_n1, std_n2, n1, n2, a):\n",
    "    #derajat kebebasan\n",
    "    df = n1 + n2 - 2\n",
    "    \n",
    "    #standar error\n",
    "    se = np.sqrt(((std_n1*2)/n1) + ((std_n2*2)/n2))\n",
    "    \n",
    "    #t-value\n",
    "    t_value = (mean_n2 - mean_n1) / se\n",
    "    \n",
    "    #p-value\n",
    "    p_value = 1 - st.t.cdf(t_value, df)\n",
    "    \n",
    "    se = np.sqrt((std_n1*2 / n1) + (std_n2*2 / n2))\n",
    "    print(\"standart error:\",se)\n",
    "    \n",
    "    #menampilkan hasil uji\n",
    "    print(\"Hasil uji t:\")\n",
    "    print(\"t-value: \", t_value)\n",
    "    print(\"p-value: \", p_value)\n",
    "    \n",
    "    #titik kritis satu arah\n",
    "    alpha = 0.05\n",
    "    nilai_q = 1 - a\n",
    "    t_crit = st.t.ppf(nilai_q, df)\n",
    "    print(\"titik kritis:\", t_crit)\n",
    "    \n",
    "    # menentukan keputusan\n",
    "    if t_value < a:\n",
    "        return \"Tolak H0, berat rata2 siswa laki2 yang ikut dalam atletik sekolah lebih sehat dari siswa lain.\"\n",
    "    else:\n",
    "        return \"Terima H0, kurang bukti untuk menyatakan bahwa berat rata2 siswa laki2 yang ikut dalam atletik sekolah lebih sehat dari siswa lain.\"\n",
    "    \n",
    "    return\n",
    "\n",
    "# menjalankan fungsi uji_t\n",
    "uji_t(mean_n1, mean_n2, std_n1, std_n2, n1, n2, a)\n"
   ]
  },
  {
   "cell_type": "markdown",
   "id": "994b2918-4ff7-48cb-859e-947d22a7f318",
   "metadata": {},
   "source": [
    "## nomer 4"
   ]
  },
  {
   "cell_type": "code",
   "execution_count": 37,
   "id": "a4545195-b215-425f-860d-64c6b3586995",
   "metadata": {},
   "outputs": [
    {
     "name": "stdout",
     "output_type": "stream",
     "text": [
      "Korelasi Person adalah 0.897\n",
      "Hasil rata2 x: 2.8888888888888857\n",
      "Hasil rata2 y: -4.2222222222222285\n",
      "Hasil kovarian: 7237.753086419755\n",
      "Standar deviasi x: 11.009535709702288\n",
      "Standar deviasi y: 13.447658018139794\n",
      "kesimpulannya:Strong Negative Correlation\n"
     ]
    }
   ],
   "source": [
    "from scipy.stats import pearsonr\n",
    "\n",
    "def koef_korelasi(umur, tekanan_darah):\n",
    "    corr,_= pearsonr(umur, tekanan_darah)\n",
    "    print(\"Korelasi Person adalah %.3f\" %corr)\n",
    "    \n",
    "    # 1. Menghitung mean variabel x dan y\n",
    "    mean_x = np.mean(umur) - 49\n",
    "    mean_y = np.mean(tekanan_darah) - 145\n",
    "    print(\"Hasil rata2 x:\",mean_x)\n",
    "    print(\"Hasil rata2 y:\",mean_y)\n",
    "\n",
    "    # 2. Menghitung Kovarian\n",
    "    covar = 0\n",
    "    for i in range(len(umur)):\n",
    "        covar+=((umur[i] - mean_x) * (tekanan_darah[i] - mean_y))\n",
    "    kovarian = covar/len(umur)\n",
    "    print(\"Hasil kovarian:\", kovarian)\n",
    "\n",
    "    # 3. Menghitung Standar deviasi x dan y\n",
    "    std_x = np.std(umur)\n",
    "    print(\"Standar deviasi x:\",std_x)\n",
    "    std_y = np.std(tekanan_darah)\n",
    "    print(\"Standar deviasi y:\",std_y)\n",
    "\n",
    "    # 4. menghitung korelasi person\n",
    "    r = kovarian/(std_x * std_y)\n",
    "    \n",
    "    # 5. Membuat keputusan interpretasi\n",
    "    if r > 0.5 and r <=1:\n",
    "        print(\"kesimpulannya:Strong Positif Correlation\")\n",
    "    elif r == 0.5:\n",
    "        print(\"kesimpulannya:Moderate Positive Correlation\")\n",
    "    elif r >= 0 and r<0.5:\n",
    "        print(\"kesimpulannya:Weak Positive Correlation\")\n",
    "    elif r < 0 and r> -0.5:\n",
    "        print(\"kesimpulannya:Weak Negative Correlation\")\n",
    "    elif r == -0.5:\n",
    "        print(\"kesimpulannya:Moderate Negative Correlation\")\n",
    "    else:\n",
    "        print(\"kesimpulannya:Strong Negative Correlation\")\n",
    "        \n",
    "koef_korelasi(umur, tekanan_darah)\n"
   ]
  },
  {
   "cell_type": "code",
   "execution_count": 26,
   "id": "fd8bcaaa-edfd-4930-ad55-243e6a997832",
   "metadata": {},
   "outputs": [
    {
     "name": "stdout",
     "output_type": "stream",
     "text": [
      "mean_x adalah: 51.888888888888886\n",
      "mean_y adalah: 140.77777777777777\n",
      "hasil dari Sxy: 1194.7777777777778\n",
      "hasil dari Sxx: 1090.888888888889\n",
      "hasil dari b: 1.0952332450600937\n",
      "hasil dari a: 83.94734161743736\n"
     ]
    }
   ],
   "source": [
    "umur = [56, 42, 36, 47, 49, 42, 60, 72, 63]\n",
    "tekanan_darah = [147, 125, 118, 128, 145, 140, 155, 160, 149]\n",
    "\n",
    "def regresi_linier(umur, tekanan_darah):\n",
    "\n",
    "    # mean x dan mean y\n",
    "    mean_x = np.mean(umur)\n",
    "    mean_y = np.mean(tekanan_darah)\n",
    "    print(\"mean_x adalah:\", mean_x)\n",
    "    print(\"mean_y adalah:\", mean_y)\n",
    "\n",
    "    # menghitung Sxy\n",
    "    n = len(umur)\n",
    "    covar_xy = 0\n",
    "    for i in range(n):\n",
    "        covar_xy+=((umur[i] - mean_x) * (tekanan_darah[i] - mean_y))\n",
    "    S_xy = covar_xy\n",
    "    print(\"hasil dari Sxy:\", S_xy)\n",
    "\n",
    "    # menghitung Sxx\n",
    "    var_xx = 0\n",
    "    for i in range(n):\n",
    "       var_xx+=((umur[i] - mean_x)**2)\n",
    "    S_xx = var_xx\n",
    "    print(\"hasil dari Sxx:\", S_xx)\n",
    "\n",
    "    # menghitung b\n",
    "    b = S_xy/S_xx\n",
    "    print(\"hasil dari b:\",b)\n",
    "\n",
    "    # menghitung a\n",
    "    a = mean_y - (b*mean_x)\n",
    "    print(\"hasil dari a:\",a)\n",
    "\n",
    "regresi_linier(umur, tekanan_darah)\n"
   ]
  },
  {
   "cell_type": "code",
   "execution_count": null,
   "id": "d1023aa7-bb45-4ba9-b743-744eb2f31174",
   "metadata": {},
   "outputs": [],
   "source": []
  }
 ],
 "metadata": {
  "kernelspec": {
   "display_name": "Python 3 (ipykernel)",
   "language": "python",
   "name": "python3"
  },
  "language_info": {
   "codemirror_mode": {
    "name": "ipython",
    "version": 3
   },
   "file_extension": ".py",
   "mimetype": "text/x-python",
   "name": "python",
   "nbconvert_exporter": "python",
   "pygments_lexer": "ipython3",
   "version": "3.9.12"
  }
 },
 "nbformat": 4,
 "nbformat_minor": 5
}
