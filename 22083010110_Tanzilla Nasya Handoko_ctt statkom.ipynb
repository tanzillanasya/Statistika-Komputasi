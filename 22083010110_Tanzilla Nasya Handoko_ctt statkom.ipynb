{
 "cells": [
  {
   "cell_type": "code",
   "execution_count": 2,
   "id": "013e87cf",
   "metadata": {},
   "outputs": [
    {
     "data": {
      "text/plain": [
       "6"
      ]
     },
     "execution_count": 2,
     "metadata": {},
     "output_type": "execute_result"
    }
   ],
   "source": [
    "3+5-2"
   ]
  },
  {
   "cell_type": "code",
   "execution_count": 3,
   "id": "8986baad",
   "metadata": {},
   "outputs": [
    {
     "data": {
      "text/plain": [
       "10"
      ]
     },
     "execution_count": 3,
     "metadata": {},
     "output_type": "execute_result"
    }
   ],
   "source": [
    "20-5*2"
   ]
  },
  {
   "cell_type": "code",
   "execution_count": 4,
   "id": "33f7e1e6",
   "metadata": {},
   "outputs": [
    {
     "data": {
      "text/plain": [
       "15.0"
      ]
     },
     "execution_count": 4,
     "metadata": {},
     "output_type": "execute_result"
    }
   ],
   "source": [
    "(20-5*2/2)"
   ]
  },
  {
   "cell_type": "code",
   "execution_count": 5,
   "id": "6ec1f31f",
   "metadata": {},
   "outputs": [
    {
     "data": {
      "text/plain": [
       "2.5"
      ]
     },
     "execution_count": 5,
     "metadata": {},
     "output_type": "execute_result"
    }
   ],
   "source": [
    "10/4"
   ]
  },
  {
   "cell_type": "code",
   "execution_count": 6,
   "id": "74f8e3c1",
   "metadata": {},
   "outputs": [
    {
     "data": {
      "text/plain": [
       "2"
      ]
     },
     "execution_count": 6,
     "metadata": {},
     "output_type": "execute_result"
    }
   ],
   "source": [
    "10//4"
   ]
  },
  {
   "cell_type": "code",
   "execution_count": 7,
   "id": "f188e336",
   "metadata": {},
   "outputs": [
    {
     "data": {
      "text/plain": [
       "2"
      ]
     },
     "execution_count": 7,
     "metadata": {},
     "output_type": "execute_result"
    }
   ],
   "source": [
    "10%4"
   ]
  },
  {
   "cell_type": "code",
   "execution_count": 8,
   "id": "0143edd1",
   "metadata": {},
   "outputs": [
    {
     "data": {
      "text/plain": [
       "81"
      ]
     },
     "execution_count": 8,
     "metadata": {},
     "output_type": "execute_result"
    }
   ],
   "source": [
    "3**4"
   ]
  },
  {
   "cell_type": "markdown",
   "id": "17428e4a",
   "metadata": {},
   "source": [
    "operator assigment"
   ]
  },
  {
   "cell_type": "code",
   "execution_count": 13,
   "id": "ea0ae9a7",
   "metadata": {},
   "outputs": [
    {
     "data": {
      "text/plain": [
       "100"
      ]
     },
     "execution_count": 13,
     "metadata": {},
     "output_type": "execute_result"
    }
   ],
   "source": [
    "benda1=50\n",
    "benda2=50\n",
    "benda1+benda2"
   ]
  },
  {
   "cell_type": "code",
   "execution_count": 14,
   "id": "b47ce164",
   "metadata": {},
   "outputs": [
    {
     "data": {
      "text/plain": [
       "20"
      ]
     },
     "execution_count": 14,
     "metadata": {},
     "output_type": "execute_result"
    }
   ],
   "source": [
    "var=5\n",
    "var+=15\n",
    "var"
   ]
  },
  {
   "cell_type": "markdown",
   "id": "0f923b9c",
   "metadata": {},
   "source": [
    "STRING"
   ]
  },
  {
   "cell_type": "code",
   "execution_count": 9,
   "id": "cf87e8f2",
   "metadata": {},
   "outputs": [
    {
     "data": {
      "text/plain": [
       "'contoh string yang tunggal'"
      ]
     },
     "execution_count": 9,
     "metadata": {},
     "output_type": "execute_result"
    }
   ],
   "source": [
    "'contoh string yang tunggal'"
   ]
  },
  {
   "cell_type": "code",
   "execution_count": 10,
   "id": "e17c3f31",
   "metadata": {},
   "outputs": [
    {
     "data": {
      "text/plain": [
       "'contoh string yang tunggal'"
      ]
     },
     "execution_count": 10,
     "metadata": {},
     "output_type": "execute_result"
    }
   ],
   "source": [
    "\"contoh string yang tunggal\""
   ]
  },
  {
   "cell_type": "code",
   "execution_count": null,
   "id": "9932eeaa",
   "metadata": {},
   "outputs": [],
   "source": []
  },
  {
   "cell_type": "code",
   "execution_count": 11,
   "id": "958a53b9",
   "metadata": {},
   "outputs": [
    {
     "name": "stdout",
     "output_type": "stream",
     "text": [
      "this is a text string\n"
     ]
    }
   ],
   "source": [
    "str1=\" this is a text string \"\n",
    "print(str1.strip())\n"
   ]
  },
  {
   "cell_type": "code",
   "execution_count": 13,
   "id": "1bf44f61",
   "metadata": {},
   "outputs": [
    {
     "name": "stdout",
     "output_type": "stream",
     "text": [
      "this is a text string\n"
     ]
    }
   ],
   "source": [
    "str2=\"this is a text string\"\n",
    "print(str2.lower())"
   ]
  },
  {
   "cell_type": "code",
   "execution_count": 14,
   "id": "c353b021",
   "metadata": {},
   "outputs": [
    {
     "name": "stdout",
     "output_type": "stream",
     "text": [
      "THIS IS A TEXT STRING\n"
     ]
    }
   ],
   "source": [
    "str3=\"this is a text string\"\n",
    "print(str3.upper())"
   ]
  },
  {
   "cell_type": "code",
   "execution_count": 1,
   "id": "16621741",
   "metadata": {},
   "outputs": [
    {
     "name": "stdout",
     "output_type": "stream",
     "text": [
      "i ate a mangga\n"
     ]
    }
   ],
   "source": [
    "str4=\"i ate a banana\"\n",
    "print(str4.replace(\"banana\",\"mangga\"))"
   ]
  },
  {
   "cell_type": "code",
   "execution_count": 2,
   "id": "f296ee7b",
   "metadata": {},
   "outputs": [
    {
     "name": "stdout",
     "output_type": "stream",
     "text": [
      "['hi mate', ' how do u do?']\n"
     ]
    }
   ],
   "source": [
    "str5=\"hi mate, how do u do?\"\n",
    "print(str5.split(\",\"))"
   ]
  },
  {
   "cell_type": "markdown",
   "id": "2405822f",
   "metadata": {},
   "source": [
    "conditional statement n literation"
   ]
  },
  {
   "cell_type": "code",
   "execution_count": 5,
   "id": "6d875d94",
   "metadata": {},
   "outputs": [],
   "source": [
    "student_marks = 90\n",
    "if(student_marks>100):\n",
    "    print(\"Marks exceed 100.\")\n",
    "    "
   ]
  },
  {
   "cell_type": "code",
   "execution_count": 7,
   "id": "5e0230b6",
   "metadata": {},
   "outputs": [
    {
     "name": "stdout",
     "output_type": "stream",
     "text": [
      "enter marks obtained by a student\n",
      "200\n",
      "marks exceed 100.\n"
     ]
    }
   ],
   "source": [
    "print(\"enter marks obtained by a student\")\n",
    "student_marks =  int(input())\n",
    "if(student_marks >100):\n",
    "    print(\"marks exceed 100.\")"
   ]
  },
  {
   "cell_type": "code",
   "execution_count": 8,
   "id": "0736d3d2",
   "metadata": {
    "scrolled": true
   },
   "outputs": [
    {
     "name": "stdout",
     "output_type": "stream",
     "text": [
      "inputmarks of student\n",
      "70\n",
      "not outstanding\n"
     ]
    }
   ],
   "source": [
    "print(\"inputmarks of student\")\n",
    "student_marks = int(input())\n",
    "if(student_marks >= 80):\n",
    "    print(\"outstanding\")\n",
    "else:\n",
    "    print(\"not outstanding\")"
   ]
  },
  {
   "cell_type": "code",
   "execution_count": 12,
   "id": "8035afd1",
   "metadata": {},
   "outputs": [
    {
     "name": "stdout",
     "output_type": "stream",
     "text": [
      "inputmarks of student\n",
      "90\n",
      "outstanding\n"
     ]
    }
   ],
   "source": [
    "print(\"inputmarks of student\")\n",
    "student_marks = int(input())\n",
    "if(student_marks > 100 or student_marks <0):\n",
    "    print(\"invalid marks\")\n",
    "elif(\"student_marks >=80\"):\n",
    "    print(\"outstanding\")\n",
    "else:\n",
    "    print(\"not outstanding\")"
   ]
  },
  {
   "cell_type": "markdown",
   "id": "f87e421c",
   "metadata": {},
   "source": [
    "for loop"
   ]
  },
  {
   "cell_type": "code",
   "execution_count": 1,
   "id": "f519fb20",
   "metadata": {},
   "outputs": [
    {
     "name": "stdout",
     "output_type": "stream",
     "text": [
      "probability\n",
      "statistics\n",
      "machine learning\n",
      "data sience\n",
      "artificil intelegence\n"
     ]
    }
   ],
   "source": [
    "subjects = ['probability', 'statistics', 'machine learning', 'data sience', 'artificil intelegence']\n",
    "for i in subjects:\n",
    "    print(i)"
   ]
  },
  {
   "cell_type": "code",
   "execution_count": 4,
   "id": "cf4ec4c8",
   "metadata": {},
   "outputs": [
    {
     "name": "stdout",
     "output_type": "stream",
     "text": [
      "0\n",
      "1\n",
      "2\n",
      "3\n",
      "4\n"
     ]
    }
   ],
   "source": [
    "for k in range(5):\n",
    "    print(k)"
   ]
  },
  {
   "cell_type": "code",
   "execution_count": 6,
   "id": "69880f1b",
   "metadata": {},
   "outputs": [
    {
     "name": "stdout",
     "output_type": "stream",
     "text": [
      "3\n",
      "6\n",
      "9\n"
     ]
    }
   ],
   "source": [
    "for x in range(3,12,3):\n",
    "    print(x)"
   ]
  },
  {
   "cell_type": "code",
   "execution_count": 7,
   "id": "99db6612",
   "metadata": {
    "scrolled": true
   },
   "outputs": [
    {
     "name": "stdout",
     "output_type": "stream",
     "text": [
      "adams\n",
      "alice\n",
      "emma\n"
     ]
    }
   ],
   "source": [
    "students = ['adams', 'alice', 'bob', 'emma', 'julia']\n",
    "for k in students:\n",
    "    if k in 'bob':\n",
    "        continue\n",
    "    print(k)\n",
    "    if k in 'emma':\n",
    "        break\n",
    "    "
   ]
  },
  {
   "cell_type": "markdown",
   "id": "d268f57d",
   "metadata": {},
   "source": [
    "loopingan while"
   ]
  },
  {
   "cell_type": "code",
   "execution_count": 8,
   "id": "cfab7927",
   "metadata": {},
   "outputs": [
    {
     "name": "stdout",
     "output_type": "stream",
     "text": [
      "input an integer30\n",
      "j = ',j,'sum=  1\n",
      "j = ',j,'sum=  3\n",
      "j = ',j,'sum=  6\n",
      "j = ',j,'sum=  10\n",
      "j = ',j,'sum=  15\n",
      "j = ',j,'sum=  21\n",
      "j = ',j,'sum=  28\n",
      "j = ',j,'sum=  36\n",
      "j = ',j,'sum=  45\n",
      "j = ',j,'sum=  55\n",
      "j = ',j,'sum=  66\n",
      "j = ',j,'sum=  78\n",
      "j = ',j,'sum=  91\n",
      "j = ',j,'sum=  105\n",
      "j = ',j,'sum=  120\n",
      "j = ',j,'sum=  136\n",
      "j = ',j,'sum=  153\n",
      "j = ',j,'sum=  171\n",
      "j = ',j,'sum=  190\n",
      "j = ',j,'sum=  210\n",
      "j = ',j,'sum=  231\n",
      "j = ',j,'sum=  253\n",
      "j = ',j,'sum=  276\n",
      "j = ',j,'sum=  300\n",
      "j = ',j,'sum=  325\n",
      "j = ',j,'sum=  351\n",
      "j = ',j,'sum=  378\n",
      "j = ',j,'sum=  406\n",
      "j = ',j,'sum=  435\n",
      "j = ',j,'sum=  465\n"
     ]
    }
   ],
   "source": [
    "n = int(input(\"input an integer\"))\n",
    "sum = 0\n",
    "j = 1\n",
    "while j<=n:\n",
    "    sum = sum + j\n",
    "    print(\"j = ',j,'sum= \",sum)\n",
    "    j =j+1"
   ]
  },
  {
   "cell_type": "markdown",
   "id": "a537b393",
   "metadata": {},
   "source": [
    "nested loop"
   ]
  },
  {
   "cell_type": "code",
   "execution_count": 2,
   "id": "74ff9e0a",
   "metadata": {},
   "outputs": [
    {
     "name": "stdout",
     "output_type": "stream",
     "text": [
      "heavy chair\n",
      "heavy table\n",
      "heavy computer\n",
      "wooden chair\n",
      "wooden table\n",
      "wooden computer\n",
      "fast chair\n",
      "fast table\n",
      "fast computer\n"
     ]
    }
   ],
   "source": [
    "atribut = ['heavy', 'wooden', 'fast']\n",
    "object = ['chair', 'table', 'computer']\n",
    "for a in atribut:\n",
    "  for b in object:\n",
    "    print(a,b)"
   ]
  },
  {
   "cell_type": "markdown",
   "id": "61c24a9d",
   "metadata": {},
   "source": [
    "function in python"
   ]
  },
  {
   "cell_type": "code",
   "execution_count": 7,
   "id": "aa296fdd",
   "metadata": {},
   "outputs": [
    {
     "name": "stdout",
     "output_type": "stream",
     "text": [
      "this is a test function\n"
     ]
    }
   ],
   "source": [
    "def my_function1():\n",
    "    print(\"this is a test function\")\n",
    "    \n",
    "    \n",
    "my_function1()"
   ]
  },
  {
   "cell_type": "code",
   "execution_count": 8,
   "id": "e144c069",
   "metadata": {},
   "outputs": [
    {
     "ename": "SyntaxError",
     "evalue": "EOL while scanning string literal (345684038.py, line 2)",
     "output_type": "error",
     "traceback": [
      "\u001b[1;36m  Input \u001b[1;32mIn [8]\u001b[1;36m\u001b[0m\n\u001b[1;33m    print(\"this function print its input that is 'str_in')\u001b[0m\n\u001b[1;37m                                                          ^\u001b[0m\n\u001b[1;31mSyntaxError\u001b[0m\u001b[1;31m:\u001b[0m EOL while scanning string literal\n"
     ]
    }
   ],
   "source": [
    "def my_function2(str_in):\n",
    "    print(\"this function print its input that is 'str_in')\n",
    "          \n",
    "my_function2('computer')\n",
    "my_function2('table')\n",
    "my_function2('chair')"
   ]
  },
  {
   "cell_type": "code",
   "execution_count": 10,
   "id": "002e60d7",
   "metadata": {},
   "outputs": [
    {
     "name": "stdout",
     "output_type": "stream",
     "text": [
      "mango its my fav fruit.\n"
     ]
    }
   ],
   "source": [
    "def my_function3(*myfruits):\n",
    "    print(myfruits[0],'its my fav fruit.')\n",
    "my_function3('mango', 'apple', 'orange')"
   ]
  },
  {
   "cell_type": "code",
   "execution_count": 12,
   "id": "f992aaf1",
   "metadata": {},
   "outputs": [
    {
     "name": "stdout",
     "output_type": "stream",
     "text": [
      "hasilnya adalah 20\n"
     ]
    }
   ],
   "source": [
    "def mult_by_10(k):\n",
    "    return 10*k\n",
    "print(\"hasilnya adalah\",mult_by_10(2))"
   ]
  },
  {
   "cell_type": "markdown",
   "id": "cfbf6293",
   "metadata": {},
   "source": [
    "STRUKTUR DATA LIST"
   ]
  },
  {
   "cell_type": "code",
   "execution_count": 15,
   "id": "1d8c49ec",
   "metadata": {},
   "outputs": [
    {
     "name": "stdout",
     "output_type": "stream",
     "text": [
      "['backpack', 'laptop', 'bolpoint', 'sunglasses']\n"
     ]
    }
   ],
   "source": [
    "item_list =['backpack', 'laptop', 'bolpoint', 'sunglasses' ]\n",
    "print(item_list)"
   ]
  },
  {
   "cell_type": "code",
   "execution_count": 16,
   "id": "177dd3ff",
   "metadata": {},
   "outputs": [
    {
     "name": "stdout",
     "output_type": "stream",
     "text": [
      "bolpoint\n",
      "laptop\n",
      "['laptop', 'bolpoint']\n",
      "['backpack', 'laptop', 'bolpoint']\n",
      "['bolpoint']\n"
     ]
    }
   ],
   "source": [
    "#mengakses element dari list\n",
    "print(item_list[2])\n",
    "\n",
    "print(item_list[-3])\n",
    "\n",
    "print(item_list[1:3])\n",
    "\n",
    "print(item_list[:3])\n",
    "\n",
    "print(item_list[2:3])"
   ]
  },
  {
   "cell_type": "markdown",
   "id": "51a4a7b8",
   "metadata": {},
   "source": [
    "STRUKTUR DATA TUPLE"
   ]
  },
  {
   "cell_type": "code",
   "execution_count": 9,
   "id": "7dc19d23",
   "metadata": {},
   "outputs": [
    {
     "name": "stdout",
     "output_type": "stream",
     "text": [
      "('python', 'for', 'statistics')\n"
     ]
    }
   ],
   "source": [
    "py_stat2 = (\"python\", \"for\", \"statistics\")\n",
    "print(py_stat2)"
   ]
  },
  {
   "cell_type": "code",
   "execution_count": 10,
   "id": "a2dd49e9",
   "metadata": {},
   "outputs": [
    {
     "name": "stdout",
     "output_type": "stream",
     "text": [
      "0\n",
      "1\n",
      "2\n"
     ]
    }
   ],
   "source": [
    "#menghitung seberapa banyak item muncul pada tuple\n",
    "print(py_stat2.index('python'))\n",
    "print(py_stat2.index('for'))\n",
    "print(py_stat2.index('statistics'))\n"
   ]
  },
  {
   "cell_type": "code",
   "execution_count": 11,
   "id": "e1858f95",
   "metadata": {},
   "outputs": [
    {
     "name": "stdout",
     "output_type": "stream",
     "text": [
      "0\n",
      "2\n"
     ]
    },
    {
     "ename": "ValueError",
     "evalue": "tuple.index(x): x not in tuple",
     "output_type": "error",
     "traceback": [
      "\u001b[1;31m---------------------------------------------------------------------------\u001b[0m",
      "\u001b[1;31mValueError\u001b[0m                                Traceback (most recent call last)",
      "Input \u001b[1;32mIn [11]\u001b[0m, in \u001b[0;36m<cell line: 4>\u001b[1;34m()\u001b[0m\n\u001b[0;32m      2\u001b[0m \u001b[38;5;28mprint\u001b[39m(py_stat2\u001b[38;5;241m.\u001b[39mindex(\u001b[38;5;124m'\u001b[39m\u001b[38;5;124mpython\u001b[39m\u001b[38;5;124m'\u001b[39m))\n\u001b[0;32m      3\u001b[0m \u001b[38;5;28mprint\u001b[39m(py_stat2\u001b[38;5;241m.\u001b[39mindex(\u001b[38;5;124m'\u001b[39m\u001b[38;5;124mstatistics\u001b[39m\u001b[38;5;124m'\u001b[39m))\n\u001b[1;32m----> 4\u001b[0m \u001b[38;5;28mprint\u001b[39m(\u001b[43mpy_stat2\u001b[49m\u001b[38;5;241;43m.\u001b[39;49m\u001b[43mindex\u001b[49m\u001b[43m(\u001b[49m\u001b[38;5;124;43m'\u001b[39;49m\u001b[38;5;124;43mprobability\u001b[39;49m\u001b[38;5;124;43m'\u001b[39;49m\u001b[43m)\u001b[49m)\n",
      "\u001b[1;31mValueError\u001b[0m: tuple.index(x): x not in tuple"
     ]
    }
   ],
   "source": [
    "#mengetahui apakah suatu sistem merupakan bagian dari tuple\n",
    "print(py_stat2.index('python'))\n",
    "print(py_stat2.index('statistics'))\n",
    "print(py_stat2.index('probability'))"
   ]
  },
  {
   "cell_type": "markdown",
   "id": "016ddfe2",
   "metadata": {},
   "source": [
    "STRUKTUR DATASETS"
   ]
  },
  {
   "cell_type": "code",
   "execution_count": 3,
   "id": "d3b7ab78",
   "metadata": {},
   "outputs": [
    {
     "name": "stdout",
     "output_type": "stream",
     "text": [
      "('cat', 'dog', 'tiger', 'pig')\n"
     ]
    }
   ],
   "source": [
    "my_animals = ('cat', 'dog', 'tiger', 'pig')\n",
    "print(my_animals)"
   ]
  },
  {
   "cell_type": "code",
   "execution_count": 6,
   "id": "83744046",
   "metadata": {},
   "outputs": [
    {
     "name": "stdout",
     "output_type": "stream",
     "text": [
      "cat\n",
      "dog\n",
      "tiger\n",
      "pig\n"
     ]
    }
   ],
   "source": [
    "#menjalankan dengan elemen loop for\n",
    "my_animals = ('cat', 'dog', 'tiger', 'pig')\n",
    "for a in my_animals:\n",
    "    print(a)"
   ]
  },
  {
   "cell_type": "code",
   "execution_count": 4,
   "id": "f4e6c0b4",
   "metadata": {},
   "outputs": [
    {
     "name": "stdout",
     "output_type": "stream",
     "text": [
      "True\n",
      "True\n"
     ]
    }
   ],
   "source": [
    "#mengtahui apakah suatu item merupakan bagian sets\n",
    "print(\"tiger\" in my_animals)\n",
    "print(\"dog\" in my_animals)"
   ]
  },
  {
   "cell_type": "markdown",
   "id": "0723c382",
   "metadata": {},
   "source": [
    "STRUKTUR DATA DICTIONARY"
   ]
  },
  {
   "cell_type": "code",
   "execution_count": 4,
   "id": "df664fbd",
   "metadata": {
    "scrolled": true
   },
   "outputs": [
    {
     "name": "stdout",
     "output_type": "stream",
     "text": [
      "{'name': 'python', 'purpose': 'statistics', 'year': 2009}\n"
     ]
    }
   ],
   "source": [
    "py_stat_dict = {\"name\" : \"python\", \n",
    "                \"purpose\" : \"statistics\", \n",
    "                \"year\" : 2009}\n",
    "print(py_stat_dict)"
   ]
  },
  {
   "cell_type": "code",
   "execution_count": 6,
   "id": "0869de60",
   "metadata": {},
   "outputs": [
    {
     "name": "stdout",
     "output_type": "stream",
     "text": [
      "python\n",
      "statistics\n"
     ]
    }
   ],
   "source": [
    "#mendapatkan kata kunci dari elemen\n",
    "print(py_stat_dict[\"name\"])\n",
    "print(py_stat_dict.get('purpose'))"
   ]
  },
  {
   "cell_type": "code",
   "execution_count": null,
   "id": "e1f8b64a",
   "metadata": {},
   "outputs": [],
   "source": []
  },
  {
   "cell_type": "code",
   "execution_count": null,
   "id": "43d1b9ef",
   "metadata": {},
   "outputs": [],
   "source": []
  },
  {
   "cell_type": "code",
   "execution_count": null,
   "id": "e614db5b",
   "metadata": {},
   "outputs": [],
   "source": []
  }
 ],
 "metadata": {
  "kernelspec": {
   "display_name": "base",
   "language": "python",
   "name": "python3"
  },
  "language_info": {
   "codemirror_mode": {
    "name": "ipython",
    "version": 3
   },
   "file_extension": ".py",
   "mimetype": "text/x-python",
   "name": "python",
   "nbconvert_exporter": "python",
   "pygments_lexer": "ipython3",
   "version": "3.9.12"
  },
  "vscode": {
   "interpreter": {
    "hash": "f08154012ddadd8e950e6e9e035c7a7b32c136e7647e9b7c77e02eb723a8bedb"
   }
  }
 },
 "nbformat": 4,
 "nbformat_minor": 5
}
